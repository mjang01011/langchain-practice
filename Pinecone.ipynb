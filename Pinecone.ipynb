{
  "nbformat": 4,
  "nbformat_minor": 0,
  "metadata": {
    "colab": {
      "provenance": []
    },
    "kernelspec": {
      "name": "python3",
      "display_name": "Python 3"
    },
    "language_info": {
      "name": "python"
    }
  },
  "cells": [
    {
      "cell_type": "code",
      "source": [
        "!pip install -r ./requirements.txt -q"
      ],
      "metadata": {
        "colab": {
          "base_uri": "https://localhost:8080/"
        },
        "id": "nx9dTMXx6DyG",
        "outputId": "f39e1d16-dff2-4d14-fd15-11bd45c83473"
      },
      "execution_count": 3,
      "outputs": [
        {
          "output_type": "stream",
          "name": "stdout",
          "text": [
            "\u001b[2K     \u001b[90m━━━━━━━━━━━━━━━━━━━━━━━━━━━━━━━━━━━━━━━━\u001b[0m \u001b[32m328.3/328.3 kB\u001b[0m \u001b[31m2.0 MB/s\u001b[0m eta \u001b[36m0:00:00\u001b[0m\n",
            "\u001b[2K     \u001b[90m━━━━━━━━━━━━━━━━━━━━━━━━━━━━━━━━━━━━━━━━\u001b[0m \u001b[32m975.5/975.5 kB\u001b[0m \u001b[31m13.3 MB/s\u001b[0m eta \u001b[36m0:00:00\u001b[0m\n",
            "\u001b[2K     \u001b[90m━━━━━━━━━━━━━━━━━━━━━━━━━━━━━━━━━━━━━━━━\u001b[0m \u001b[32m45.9/45.9 kB\u001b[0m \u001b[31m3.7 MB/s\u001b[0m eta \u001b[36m0:00:00\u001b[0m\n",
            "\u001b[2K     \u001b[90m━━━━━━━━━━━━━━━━━━━━━━━━━━━━━━━━━━━━━━━━\u001b[0m \u001b[32m202.7/202.7 kB\u001b[0m \u001b[31m16.5 MB/s\u001b[0m eta \u001b[36m0:00:00\u001b[0m\n",
            "\u001b[2K     \u001b[90m━━━━━━━━━━━━━━━━━━━━━━━━━━━━━━━━━━━━━━━━\u001b[0m \u001b[32m216.4/216.4 kB\u001b[0m \u001b[31m12.3 MB/s\u001b[0m eta \u001b[36m0:00:00\u001b[0m\n",
            "\u001b[2K     \u001b[90m━━━━━━━━━━━━━━━━━━━━━━━━━━━━━━━━━━━━━━━━\u001b[0m \u001b[32m1.1/1.1 MB\u001b[0m \u001b[31m36.4 MB/s\u001b[0m eta \u001b[36m0:00:00\u001b[0m\n",
            "\u001b[?25h  Preparing metadata (setup.py) ... \u001b[?25l\u001b[?25hdone\n",
            "\u001b[2K     \u001b[90m━━━━━━━━━━━━━━━━━━━━━━━━━━━━━━━━━━━━━━━━\u001b[0m \u001b[32m290.4/290.4 kB\u001b[0m \u001b[31m20.7 MB/s\u001b[0m eta \u001b[36m0:00:00\u001b[0m\n",
            "\u001b[2K     \u001b[90m━━━━━━━━━━━━━━━━━━━━━━━━━━━━━━━━━━━━━━━━\u001b[0m \u001b[32m75.6/75.6 kB\u001b[0m \u001b[31m5.2 MB/s\u001b[0m eta \u001b[36m0:00:00\u001b[0m\n",
            "\u001b[2K     \u001b[90m━━━━━━━━━━━━━━━━━━━━━━━━━━━━━━━━━━━━━━━━\u001b[0m \u001b[32m337.4/337.4 kB\u001b[0m \u001b[31m23.9 MB/s\u001b[0m eta \u001b[36m0:00:00\u001b[0m\n",
            "\u001b[2K     \u001b[90m━━━━━━━━━━━━━━━━━━━━━━━━━━━━━━━━━━━━━━━━\u001b[0m \u001b[32m127.5/127.5 kB\u001b[0m \u001b[31m10.8 MB/s\u001b[0m eta \u001b[36m0:00:00\u001b[0m\n",
            "\u001b[2K     \u001b[90m━━━━━━━━━━━━━━━━━━━━━━━━━━━━━━━━━━━━━━━━\u001b[0m \u001b[32m2.2/2.2 MB\u001b[0m \u001b[31m32.7 MB/s\u001b[0m eta \u001b[36m0:00:00\u001b[0m\n",
            "\u001b[2K     \u001b[90m━━━━━━━━━━━━━━━━━━━━━━━━━━━━━━━━━━━━━━━━\u001b[0m \u001b[32m77.9/77.9 kB\u001b[0m \u001b[31m6.9 MB/s\u001b[0m eta \u001b[36m0:00:00\u001b[0m\n",
            "\u001b[2K     \u001b[90m━━━━━━━━━━━━━━━━━━━━━━━━━━━━━━━━━━━━━━━━\u001b[0m \u001b[32m58.3/58.3 kB\u001b[0m \u001b[31m5.1 MB/s\u001b[0m eta \u001b[36m0:00:00\u001b[0m\n",
            "\u001b[2K     \u001b[90m━━━━━━━━━━━━━━━━━━━━━━━━━━━━━━━━━━━━━━━━\u001b[0m \u001b[32m141.1/141.1 kB\u001b[0m \u001b[31m10.9 MB/s\u001b[0m eta \u001b[36m0:00:00\u001b[0m\n",
            "\u001b[2K     \u001b[90m━━━━━━━━━━━━━━━━━━━━━━━━━━━━━━━━━━━━━━━━\u001b[0m \u001b[32m49.2/49.2 kB\u001b[0m \u001b[31m5.5 MB/s\u001b[0m eta \u001b[36m0:00:00\u001b[0m\n",
            "\u001b[?25h  Building wheel for docx2txt (setup.py) ... \u001b[?25l\u001b[?25hdone\n"
          ]
        }
      ]
    },
    {
      "cell_type": "code",
      "execution_count": 4,
      "metadata": {
        "id": "C4H0CHmA50l8"
      },
      "outputs": [],
      "source": [
        "import os\n",
        "from dotenv import load_dotenv, find_dotenv\n",
        "\n",
        "load_dotenv(find_dotenv(), override=True)\n",
        "pinecone_api_key = os.environ.get('PINECONE_API_KEY')"
      ]
    },
    {
      "cell_type": "code",
      "source": [
        "pip show pinecone-client"
      ],
      "metadata": {
        "colab": {
          "base_uri": "https://localhost:8080/"
        },
        "id": "bVw3iwql59UQ",
        "outputId": "6b05af0d-d8cd-48ec-afef-0fee195afddd"
      },
      "execution_count": 5,
      "outputs": [
        {
          "output_type": "stream",
          "name": "stdout",
          "text": [
            "Name: pinecone-client\n",
            "Version: 4.1.2\n",
            "Summary: Pinecone client and SDK\n",
            "Home-page: https://www.pinecone.io\n",
            "Author: Pinecone Systems, Inc.\n",
            "Author-email: support@pinecone.io\n",
            "License: Apache-2.0\n",
            "Location: /usr/local/lib/python3.10/dist-packages\n",
            "Requires: certifi, pinecone-plugin-interface, tqdm, typing-extensions, urllib3\n",
            "Required-by: \n"
          ]
        }
      ]
    },
    {
      "cell_type": "code",
      "source": [
        "from pinecone import Pinecone\n",
        "pc = Pinecone(pinecone_api_key)"
      ],
      "metadata": {
        "id": "ni6m8wQq6SRF"
      },
      "execution_count": 6,
      "outputs": []
    },
    {
      "cell_type": "markdown",
      "source": [
        "Using Pinecone Indexes: An index is the highest-level organizational unit of vector data in Pinecone. It accepts and stores vectors, serves queries over the vectors it contains, and does other vector operations over its contents. It help to significantly increase the speed of the search process of similarity search with only a minimal tradeoff in search accuracy (HNSW index), or efficiently store many subsets of data in a small memory footprint (flat index)"
      ],
      "metadata": {
        "id": "vLmtAYKl67l8"
      }
    },
    {
      "cell_type": "markdown",
      "source": [
        "Vector embeddings are produced by embedding models to summarize objects such as text, image, video, etc."
      ],
      "metadata": {
        "id": "zV2LQ-j-7sby"
      }
    },
    {
      "cell_type": "code",
      "source": [
        "pc.list_indexes()"
      ],
      "metadata": {
        "colab": {
          "base_uri": "https://localhost:8080/"
        },
        "id": "GKVvdnR56iKz",
        "outputId": "a6bea91e-baab-4462-8442-93251bdb4ff1"
      },
      "execution_count": 9,
      "outputs": [
        {
          "output_type": "execute_result",
          "data": {
            "text/plain": [
              "{'indexes': []}"
            ]
          },
          "metadata": {},
          "execution_count": 9
        }
      ]
    },
    {
      "cell_type": "markdown",
      "source": [
        "Create Index (Note: serverless indexes scale automatically based on usage, and you pay only for the amount of data stored and operations performed, with no minimums.)"
      ],
      "metadata": {
        "id": "22CWjov68i34"
      }
    },
    {
      "cell_type": "code",
      "source": [
        "from pinecone import ServerlessSpec\n",
        "index_name = 'langchain'\n",
        "if index_name not in pc.list_indexes().names():\n",
        "  print(f'Creating index {index_name}...')\n",
        "  pc.create_index(name=index_name, dimension=1536, metric='cosine', spec=ServerlessSpec(cloud='aws', region='us-east-1'))\n",
        "  print('Index created.')\n",
        "else:\n",
        "  print(f'Index {index_name} already exists.')"
      ],
      "metadata": {
        "colab": {
          "base_uri": "https://localhost:8080/"
        },
        "id": "2Tzx2SMr7Ax3",
        "outputId": "04f2a11c-7f12-4c1c-cf47-2250b32ebb62"
      },
      "execution_count": 16,
      "outputs": [
        {
          "output_type": "stream",
          "name": "stdout",
          "text": [
            "Creating index langchain...\n",
            "Index created.\n"
          ]
        }
      ]
    },
    {
      "cell_type": "markdown",
      "source": [
        "Delete Index"
      ],
      "metadata": {
        "id": "XmCwFiVs8kKv"
      }
    },
    {
      "cell_type": "code",
      "source": [
        "index_name = 'langchain'\n",
        "if index_name in pc.list_indexes().names():\n",
        "  print(f'Deleting index {index_name}...')\n",
        "  pc.delete_index(index_name)\n",
        "  print('Index deleted.')\n",
        "else:\n",
        "  print(f'Index {index_name} does not exist.')"
      ],
      "metadata": {
        "colab": {
          "base_uri": "https://localhost:8080/"
        },
        "id": "SxCkKppV8UD4",
        "outputId": "8d70edd3-a3ee-43c7-dd95-842004a996b9"
      },
      "execution_count": 14,
      "outputs": [
        {
          "output_type": "stream",
          "name": "stdout",
          "text": [
            "Deleting index langchain...\n",
            "Index deleted.\n"
          ]
        }
      ]
    },
    {
      "cell_type": "markdown",
      "source": [
        "Selecting Index"
      ],
      "metadata": {
        "id": "wIRpz4mq80bj"
      }
    },
    {
      "cell_type": "code",
      "source": [
        "index = pc.Index(index_name)\n",
        "index.describe_index_stats()"
      ],
      "metadata": {
        "colab": {
          "base_uri": "https://localhost:8080/"
        },
        "id": "GNj6K2x78qQE",
        "outputId": "8b22704c-1afb-4f7c-bad9-94474169ba11"
      },
      "execution_count": 17,
      "outputs": [
        {
          "output_type": "execute_result",
          "data": {
            "text/plain": [
              "{'dimension': 1536,\n",
              " 'index_fullness': 0.0,\n",
              " 'namespaces': {},\n",
              " 'total_vector_count': 0}"
            ]
          },
          "metadata": {},
          "execution_count": 17
        }
      ]
    },
    {
      "cell_type": "markdown",
      "source": [
        "Working with vectors"
      ],
      "metadata": {
        "id": "HjlnELEs9xv2"
      }
    },
    {
      "cell_type": "markdown",
      "source": [
        "Inserting vectors"
      ],
      "metadata": {
        "id": "O8-oeQZD-L5e"
      }
    },
    {
      "cell_type": "code",
      "source": [
        "import random\n",
        "vectors = [[random.random() for _ in range(1536)] for v in range(5)]\n",
        "# print(vectors)\n",
        "ids = list('abcde')\n",
        "index_name = 'langchain'\n",
        "index = pc.Index(index_name)\n",
        "index.upsert(vectors=zip(ids, vectors))"
      ],
      "metadata": {
        "colab": {
          "base_uri": "https://localhost:8080/"
        },
        "id": "U4BgsNLA85KC",
        "outputId": "e31a13dc-5564-4077-f056-98cfa2d68b39"
      },
      "execution_count": 20,
      "outputs": [
        {
          "output_type": "execute_result",
          "data": {
            "text/plain": [
              "{'upserted_count': 5}"
            ]
          },
          "metadata": {},
          "execution_count": 20
        }
      ]
    },
    {
      "cell_type": "markdown",
      "source": [
        "Updating vectors"
      ],
      "metadata": {
        "id": "uv7Wlpk8-NTV"
      }
    },
    {
      "cell_type": "code",
      "source": [
        "index.upsert(vectors=[('c', [0.5]*1536)])"
      ],
      "metadata": {
        "colab": {
          "base_uri": "https://localhost:8080/"
        },
        "id": "z-_MvGTH93Dh",
        "outputId": "fbbae499-7e8e-4cb2-e600-bb35287b7d49"
      },
      "execution_count": 21,
      "outputs": [
        {
          "output_type": "execute_result",
          "data": {
            "text/plain": [
              "{'upserted_count': 1}"
            ]
          },
          "metadata": {},
          "execution_count": 21
        }
      ]
    },
    {
      "cell_type": "markdown",
      "source": [
        "Fetching vectors"
      ],
      "metadata": {
        "id": "66Ew41K1-WUA"
      }
    },
    {
      "cell_type": "code",
      "source": [
        "#index.fetch(ids=['a', 'c'])"
      ],
      "metadata": {
        "id": "noyO0dUn-Tnj"
      },
      "execution_count": 23,
      "outputs": []
    },
    {
      "cell_type": "markdown",
      "source": [
        "Deleting vectors"
      ],
      "metadata": {
        "id": "mt_rBVAC-eAD"
      }
    },
    {
      "cell_type": "code",
      "source": [
        "index.delete(ids=['b'])"
      ],
      "metadata": {
        "colab": {
          "base_uri": "https://localhost:8080/"
        },
        "id": "j6LkOjhK-ZQb",
        "outputId": "875c8f31-b328-45f6-f5e0-f572eb6e014c"
      },
      "execution_count": 24,
      "outputs": [
        {
          "output_type": "execute_result",
          "data": {
            "text/plain": [
              "{}"
            ]
          },
          "metadata": {},
          "execution_count": 24
        }
      ]
    },
    {
      "cell_type": "code",
      "source": [
        "index.describe_index_stats()"
      ],
      "metadata": {
        "colab": {
          "base_uri": "https://localhost:8080/"
        },
        "id": "5BGqdNmW-gc1",
        "outputId": "c58f583b-d10e-4af2-866c-2388bf08421d"
      },
      "execution_count": 25,
      "outputs": [
        {
          "output_type": "execute_result",
          "data": {
            "text/plain": [
              "{'dimension': 1536,\n",
              " 'index_fullness': 0.0,\n",
              " 'namespaces': {'': {'vector_count': 4}},\n",
              " 'total_vector_count': 4}"
            ]
          },
          "metadata": {},
          "execution_count": 25
        }
      ]
    },
    {
      "cell_type": "code",
      "source": [
        "index.fetch(ids=['y'])"
      ],
      "metadata": {
        "colab": {
          "base_uri": "https://localhost:8080/"
        },
        "id": "k9Um5hW5-izy",
        "outputId": "31529c20-eedf-4285-d741-8214613d988a"
      },
      "execution_count": 26,
      "outputs": [
        {
          "output_type": "execute_result",
          "data": {
            "text/plain": [
              "{'namespace': '', 'usage': {'read_units': 1}, 'vectors': {}}"
            ]
          },
          "metadata": {},
          "execution_count": 26
        }
      ]
    },
    {
      "cell_type": "markdown",
      "source": [
        "Query"
      ],
      "metadata": {
        "id": "b72MQ6Wr--co"
      }
    },
    {
      "cell_type": "code",
      "source": [
        "query_vector = [random.random() for _ in range(1536)]\n",
        "index.query(vector=query_vector, top_k=3, include_values=False)"
      ],
      "metadata": {
        "colab": {
          "base_uri": "https://localhost:8080/"
        },
        "id": "aSy5X3fd-m_6",
        "outputId": "3ebc3317-243d-41dd-e5d5-f178d35288ff"
      },
      "execution_count": 31,
      "outputs": [
        {
          "output_type": "execute_result",
          "data": {
            "text/plain": [
              "{'matches': [{'id': 'c', 'score': 0.864851117, 'values': []},\n",
              "             {'id': 'e', 'score': 0.762854934, 'values': []},\n",
              "             {'id': 'd', 'score': 0.742488325, 'values': []}],\n",
              " 'namespace': '',\n",
              " 'usage': {'read_units': 5}}"
            ]
          },
          "metadata": {},
          "execution_count": 31
        }
      ]
    },
    {
      "cell_type": "markdown",
      "source": [
        "Namespaces"
      ],
      "metadata": {
        "id": "4iea_pwE2Mu6"
      }
    },
    {
      "cell_type": "code",
      "source": [
        "import random\n",
        "index = pc.Index('langchain')\n",
        "\n",
        "vectors = [[random.random() for _ in range(1536)] for v in range(5)]\n",
        "ids = list('abcde')\n",
        "index.upsert(vectors=zip(ids, vectors))"
      ],
      "metadata": {
        "colab": {
          "base_uri": "https://localhost:8080/"
        },
        "id": "ZYTYyGpY_HSX",
        "outputId": "d760d8f9-9377-4277-b988-9a7f495fab81"
      },
      "execution_count": 7,
      "outputs": [
        {
          "output_type": "execute_result",
          "data": {
            "text/plain": [
              "{'upserted_count': 5}"
            ]
          },
          "metadata": {},
          "execution_count": 7
        }
      ]
    },
    {
      "cell_type": "code",
      "source": [
        "vectors = [[random.random() for _ in range(1536)] for v in range(3)]\n",
        "ids = list('xyz')\n",
        "index.upsert(vectors=zip(ids, vectors), namespace='first-namespace')"
      ],
      "metadata": {
        "colab": {
          "base_uri": "https://localhost:8080/"
        },
        "id": "erw_xiLV2epV",
        "outputId": "3a1e8764-3d4a-4704-e686-4d19dac52861"
      },
      "execution_count": 17,
      "outputs": [
        {
          "output_type": "execute_result",
          "data": {
            "text/plain": [
              "{'upserted_count': 3}"
            ]
          },
          "metadata": {},
          "execution_count": 17
        }
      ]
    },
    {
      "cell_type": "code",
      "source": [
        "vectors = [[random.random() for _ in range(1536)] for v in range(2)]\n",
        "ids = list('qp')\n",
        "index.upsert(vectors=zip(ids, vectors), namespace='second-namespace')"
      ],
      "metadata": {
        "colab": {
          "base_uri": "https://localhost:8080/"
        },
        "id": "cfBxcumJ3PAY",
        "outputId": "d3d1ff1a-eaf9-4d81-c3cc-89a4f5932d41"
      },
      "execution_count": 24,
      "outputs": [
        {
          "output_type": "execute_result",
          "data": {
            "text/plain": [
              "{'upserted_count': 2}"
            ]
          },
          "metadata": {},
          "execution_count": 24
        }
      ]
    },
    {
      "cell_type": "code",
      "source": [
        "index.describe_index_stats()"
      ],
      "metadata": {
        "colab": {
          "base_uri": "https://localhost:8080/"
        },
        "id": "5Cu3ICAc252_",
        "outputId": "2289d77f-e1fd-4168-b69f-cb9a06e8bc57"
      },
      "execution_count": 25,
      "outputs": [
        {
          "output_type": "execute_result",
          "data": {
            "text/plain": [
              "{'dimension': 1536,\n",
              " 'index_fullness': 0.0,\n",
              " 'namespaces': {'': {'vector_count': 5},\n",
              "                'first-namespace': {'vector_count': 3},\n",
              "                'second-namespace': {'vector_count': 2}},\n",
              " 'total_vector_count': 10}"
            ]
          },
          "metadata": {},
          "execution_count": 25
        }
      ]
    },
    {
      "cell_type": "code",
      "source": [
        "index.fetch(ids=['x'])"
      ],
      "metadata": {
        "colab": {
          "base_uri": "https://localhost:8080/"
        },
        "id": "Mw3ah25C3KI8",
        "outputId": "f18e8fec-d004-4675-c451-43c97913977b"
      },
      "execution_count": 27,
      "outputs": [
        {
          "output_type": "execute_result",
          "data": {
            "text/plain": [
              "{'namespace': '', 'usage': {'read_units': 1}, 'vectors': {}}"
            ]
          },
          "metadata": {},
          "execution_count": 27
        }
      ]
    },
    {
      "cell_type": "code",
      "source": [
        "# index.fetch(ids=['x'], namespace='first-namespace')"
      ],
      "metadata": {
        "id": "74zokHaS7_SF"
      },
      "execution_count": 29,
      "outputs": []
    },
    {
      "cell_type": "code",
      "source": [
        "index.delete(delete_all=True, namespace='first-namespace')"
      ],
      "metadata": {
        "colab": {
          "base_uri": "https://localhost:8080/"
        },
        "id": "Yi4JNjSD8NHC",
        "outputId": "11267811-ea31-49a8-a271-972177893e0a"
      },
      "execution_count": 30,
      "outputs": [
        {
          "output_type": "execute_result",
          "data": {
            "text/plain": [
              "{}"
            ]
          },
          "metadata": {},
          "execution_count": 30
        }
      ]
    },
    {
      "cell_type": "code",
      "source": [
        "index.describe_index_stats()"
      ],
      "metadata": {
        "colab": {
          "base_uri": "https://localhost:8080/"
        },
        "id": "mh9RaVMw8Yjv",
        "outputId": "7d8d1699-a567-4cba-a3c7-e539c19b0055"
      },
      "execution_count": 31,
      "outputs": [
        {
          "output_type": "execute_result",
          "data": {
            "text/plain": [
              "{'dimension': 1536,\n",
              " 'index_fullness': 0.0,\n",
              " 'namespaces': {'': {'vector_count': 5},\n",
              "                'second-namespace': {'vector_count': 2}},\n",
              " 'total_vector_count': 7}"
            ]
          },
          "metadata": {},
          "execution_count": 31
        }
      ]
    },
    {
      "cell_type": "code",
      "source": [],
      "metadata": {
        "id": "ttgQS1pn8aZF"
      },
      "execution_count": null,
      "outputs": []
    }
  ]
}