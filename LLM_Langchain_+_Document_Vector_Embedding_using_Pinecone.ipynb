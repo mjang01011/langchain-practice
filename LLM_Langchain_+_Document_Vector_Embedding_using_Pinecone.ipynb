{
  "nbformat": 4,
  "nbformat_minor": 0,
  "metadata": {
    "colab": {
      "provenance": []
    },
    "kernelspec": {
      "name": "python3",
      "display_name": "Python 3"
    },
    "language_info": {
      "name": "python"
    }
  },
  "cells": [
    {
      "cell_type": "code",
      "execution_count": 1,
      "metadata": {
        "colab": {
          "base_uri": "https://localhost:8080/"
        },
        "id": "aT1ua3sHASRZ",
        "outputId": "3b823706-1b3c-448d-f873-521b2bf4e833"
      },
      "outputs": [
        {
          "output_type": "stream",
          "name": "stdout",
          "text": [
            "\u001b[2K     \u001b[90m━━━━━━━━━━━━━━━━━━━━━━━━━━━━━━━━━━━━━━━━\u001b[0m \u001b[32m328.3/328.3 kB\u001b[0m \u001b[31m5.6 MB/s\u001b[0m eta \u001b[36m0:00:00\u001b[0m\n",
            "\u001b[2K     \u001b[90m━━━━━━━━━━━━━━━━━━━━━━━━━━━━━━━━━━━━━━━━\u001b[0m \u001b[32m975.5/975.5 kB\u001b[0m \u001b[31m19.5 MB/s\u001b[0m eta \u001b[36m0:00:00\u001b[0m\n",
            "\u001b[2K     \u001b[90m━━━━━━━━━━━━━━━━━━━━━━━━━━━━━━━━━━━━━━━━\u001b[0m \u001b[32m45.9/45.9 kB\u001b[0m \u001b[31m4.2 MB/s\u001b[0m eta \u001b[36m0:00:00\u001b[0m\n",
            "\u001b[2K     \u001b[90m━━━━━━━━━━━━━━━━━━━━━━━━━━━━━━━━━━━━━━━━\u001b[0m \u001b[32m202.7/202.7 kB\u001b[0m \u001b[31m14.4 MB/s\u001b[0m eta \u001b[36m0:00:00\u001b[0m\n",
            "\u001b[2K     \u001b[90m━━━━━━━━━━━━━━━━━━━━━━━━━━━━━━━━━━━━━━━━\u001b[0m \u001b[32m216.4/216.4 kB\u001b[0m \u001b[31m13.3 MB/s\u001b[0m eta \u001b[36m0:00:00\u001b[0m\n",
            "\u001b[2K     \u001b[90m━━━━━━━━━━━━━━━━━━━━━━━━━━━━━━━━━━━━━━━━\u001b[0m \u001b[32m1.1/1.1 MB\u001b[0m \u001b[31m32.0 MB/s\u001b[0m eta \u001b[36m0:00:00\u001b[0m\n",
            "\u001b[?25h  Preparing metadata (setup.py) ... \u001b[?25l\u001b[?25hdone\n",
            "\u001b[2K     \u001b[90m━━━━━━━━━━━━━━━━━━━━━━━━━━━━━━━━━━━━━━━━\u001b[0m \u001b[32m290.4/290.4 kB\u001b[0m \u001b[31m17.7 MB/s\u001b[0m eta \u001b[36m0:00:00\u001b[0m\n",
            "\u001b[2K     \u001b[90m━━━━━━━━━━━━━━━━━━━━━━━━━━━━━━━━━━━━━━━━\u001b[0m \u001b[32m75.6/75.6 kB\u001b[0m \u001b[31m5.0 MB/s\u001b[0m eta \u001b[36m0:00:00\u001b[0m\n",
            "\u001b[2K     \u001b[90m━━━━━━━━━━━━━━━━━━━━━━━━━━━━━━━━━━━━━━━━\u001b[0m \u001b[32m337.4/337.4 kB\u001b[0m \u001b[31m15.2 MB/s\u001b[0m eta \u001b[36m0:00:00\u001b[0m\n",
            "\u001b[2K     \u001b[90m━━━━━━━━━━━━━━━━━━━━━━━━━━━━━━━━━━━━━━━━\u001b[0m \u001b[32m127.5/127.5 kB\u001b[0m \u001b[31m6.8 MB/s\u001b[0m eta \u001b[36m0:00:00\u001b[0m\n",
            "\u001b[2K     \u001b[90m━━━━━━━━━━━━━━━━━━━━━━━━━━━━━━━━━━━━━━━━\u001b[0m \u001b[32m2.2/2.2 MB\u001b[0m \u001b[31m28.3 MB/s\u001b[0m eta \u001b[36m0:00:00\u001b[0m\n",
            "\u001b[2K     \u001b[90m━━━━━━━━━━━━━━━━━━━━━━━━━━━━━━━━━━━━━━━━\u001b[0m \u001b[32m77.9/77.9 kB\u001b[0m \u001b[31m4.9 MB/s\u001b[0m eta \u001b[36m0:00:00\u001b[0m\n",
            "\u001b[2K     \u001b[90m━━━━━━━━━━━━━━━━━━━━━━━━━━━━━━━━━━━━━━━━\u001b[0m \u001b[32m58.3/58.3 kB\u001b[0m \u001b[31m3.3 MB/s\u001b[0m eta \u001b[36m0:00:00\u001b[0m\n",
            "\u001b[2K     \u001b[90m━━━━━━━━━━━━━━━━━━━━━━━━━━━━━━━━━━━━━━━━\u001b[0m \u001b[32m141.1/141.1 kB\u001b[0m \u001b[31m3.7 MB/s\u001b[0m eta \u001b[36m0:00:00\u001b[0m\n",
            "\u001b[2K     \u001b[90m━━━━━━━━━━━━━━━━━━━━━━━━━━━━━━━━━━━━━━━━\u001b[0m \u001b[32m49.2/49.2 kB\u001b[0m \u001b[31m2.9 MB/s\u001b[0m eta \u001b[36m0:00:00\u001b[0m\n",
            "\u001b[?25h  Building wheel for docx2txt (setup.py) ... \u001b[?25l\u001b[?25hdone\n"
          ]
        }
      ],
      "source": [
        "!pip install -r ./requirements.txt -q"
      ]
    },
    {
      "cell_type": "code",
      "source": [
        "import os\n",
        "from dotenv import load_dotenv, find_dotenv\n",
        "\n",
        "load_dotenv(find_dotenv(), override=True)"
      ],
      "metadata": {
        "id": "JLwk-NdSAYpW"
      },
      "execution_count": 2,
      "outputs": []
    },
    {
      "cell_type": "code",
      "source": [
        "from langchain.text_splitter import RecursiveCharacterTextSplitter\n",
        "\n",
        "with open('churchill_speech.txt') as f:\n",
        "  churchill_speech = f.read()\n",
        "\n",
        "text_splitter = RecursiveCharacterTextSplitter(chunk_size=1000, chunk_overlap=20, length_function=len)\n",
        "chunks = text_splitter.create_documents([churchill_speech])"
      ],
      "metadata": {
        "id": "KoRfjfV6AY0Z"
      },
      "execution_count": 6,
      "outputs": []
    },
    {
      "cell_type": "code",
      "source": [
        "print(chunks[0])"
      ],
      "metadata": {
        "colab": {
          "base_uri": "https://localhost:8080/"
        },
        "id": "O1nPq_psBWM3",
        "outputId": "897a3420-4c2d-40f5-aa13-41c4bebd8f0a"
      },
      "execution_count": 10,
      "outputs": [
        {
          "output_type": "stream",
          "name": "stdout",
          "text": [
            "page_content='Winston Churchill Speech - We Shall Fight on the Beaches\n",
            "We Shall Fight on the Beaches\n",
            "June 4, 1940\n",
            "House of Commons\n",
            "From the moment that the French defenses at Sedan and on the Meuse were broken at the end of the\n",
            "second week of May, only a rapid retreat to Amiens and the south could have saved the British and\n",
            "French Armies who had entered Belgium at the appeal of the Belgian King; but this strategic fact was\n",
            "not immediately realized. The French High Command hoped they would be able to close the gap, and\n",
            "the Armies of the north were under their orders. Moreover, a retirement of this kind would have\n",
            "involved almost certainly the destruction of the fine Belgian Army of over 20 divisions and the\n",
            "abandonment of the whole of Belgium. Therefore, when the force and scope of the German\n",
            "penetration were realized and when a new French Generalissimo, General Weygand, assumed\n",
            "command in place of General Gamelin, an effort was made by the French and British Armies in'\n"
          ]
        }
      ]
    },
    {
      "cell_type": "code",
      "source": [
        "print(chunks[1])"
      ],
      "metadata": {
        "colab": {
          "base_uri": "https://localhost:8080/"
        },
        "id": "PrwdTJdMBY5g",
        "outputId": "633264ad-a771-49bb-f362-624b277a48ed"
      },
      "execution_count": 11,
      "outputs": [
        {
          "output_type": "stream",
          "name": "stdout",
          "text": [
            "page_content='Belgium to keep on holding the right hand of the Belgians and to give their own right hand to a newly\n",
            "created French Army which was to have advanced across the Somme in great strength to grasp it.\n",
            "However, the German eruption swept like a sharp scythe around the right and rear of the Armies of\n",
            "the north. Eight or nine armored divisions, each of about four hundred armored vehicles of different\n",
            "kinds, but carefully assorted to be complementary and divisible into small self-contained units, cut off\n",
            "all communications between us and the main French Armies. It severed our own communications for\n",
            "food and ammunition, which ran first to Amiens and afterwards through Abbeville, and it shore its\n",
            "way up the coast to Boulogne and Calais, and almost to Dunkirk. Behind this armored and\n",
            "mechanized onslaught came a number of German divisions in lorries, and behind them again there\n",
            "plodded comparatively slowly the dull brute mass of the ordinary German Army and German people,'\n"
          ]
        }
      ]
    },
    {
      "cell_type": "markdown",
      "source": [
        "Embedding Cost"
      ],
      "metadata": {
        "id": "HgeZTVSiCJj-"
      }
    },
    {
      "cell_type": "code",
      "source": [
        "def print_embedding_cost(texts):\n",
        "  import tiktoken\n",
        "  enc = tiktoken.encoding_for_model(\"text-embedding-ada-002\")\n",
        "  total_tokens = sum([len(enc.encode(page.page_content)) for page in texts])\n",
        "  print(f\"Total Tokens: {total_tokens}\")\n",
        "  print(f\"Embedding Cost: ${total_tokens / 1000 * 0.0004:.6f}\")\n",
        "\n",
        "print_embedding_cost(chunks)"
      ],
      "metadata": {
        "colab": {
          "base_uri": "https://localhost:8080/"
        },
        "id": "o4Ku7KbhBoW1",
        "outputId": "b8e5ed1c-39c5-473d-c290-c9b89c742aaf"
      },
      "execution_count": 14,
      "outputs": [
        {
          "output_type": "stream",
          "name": "stdout",
          "text": [
            "Total Tokens: 4665\n",
            "Embedding Cost: $0.001866\n"
          ]
        }
      ]
    },
    {
      "cell_type": "code",
      "source": [
        "from langchain_openai import OpenAIEmbeddings\n",
        "\n",
        "embedding = OpenAIEmbeddings()"
      ],
      "metadata": {
        "id": "Fkci-ZqdCUUx"
      },
      "execution_count": 15,
      "outputs": []
    },
    {
      "cell_type": "code",
      "source": [
        "vector = embedding.embed_query(chunks[0].page_content)\n",
        "# print(vector)"
      ],
      "metadata": {
        "id": "WqCtIoh4CsoM"
      },
      "execution_count": 18,
      "outputs": []
    },
    {
      "cell_type": "markdown",
      "source": [
        "Inserting Embeddings into Pincone Index"
      ],
      "metadata": {
        "id": "XGrdgQ7BDIDi"
      }
    },
    {
      "cell_type": "code",
      "source": [
        "import pinecone\n",
        "from langchain.vectorstores import Pinecone\n",
        "\n",
        "pc = pinecone.Pinecone()"
      ],
      "metadata": {
        "id": "dNdiFSiUCsa3"
      },
      "execution_count": 19,
      "outputs": []
    },
    {
      "cell_type": "code",
      "source": [
        "for i in pc.list_indexes().names():\n",
        "  print(\"Deleting all indexes\")\n",
        "  pc.delete_index(i)"
      ],
      "metadata": {
        "colab": {
          "base_uri": "https://localhost:8080/"
        },
        "id": "wD94SmbKDNrn",
        "outputId": "2703f829-1ab1-4516-97f9-a58842d968dd"
      },
      "execution_count": 20,
      "outputs": [
        {
          "output_type": "stream",
          "name": "stdout",
          "text": [
            "Deleting all indexes\n"
          ]
        }
      ]
    },
    {
      "cell_type": "code",
      "source": [
        "index_name = 'churchill-speech'\n",
        "if index_name not in pc.list_indexes().names():\n",
        "  print(f\"Creating index {index_name}...\")\n",
        "  pc.create_index(name=index_name, dimension=1536, metric='cosine', spec=pinecone.PodSpec(environment='gcp-starter'))\n",
        "  print(\"Done\")"
      ],
      "metadata": {
        "colab": {
          "base_uri": "https://localhost:8080/"
        },
        "id": "WlGV96irDZga",
        "outputId": "fccb4d45-3176-4845-b993-5671bbf5cc36"
      },
      "execution_count": 21,
      "outputs": [
        {
          "output_type": "stream",
          "name": "stdout",
          "text": [
            "Creating index churchill-speech...\n",
            "Done\n"
          ]
        }
      ]
    }
  ]
}